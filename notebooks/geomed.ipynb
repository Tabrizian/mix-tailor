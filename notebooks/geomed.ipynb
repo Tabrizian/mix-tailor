{
 "cells": [
  {
   "cell_type": "code",
   "execution_count": 1,
   "metadata": {},
   "outputs": [],
   "source": [
    "import torch"
   ]
  },
  {
   "cell_type": "code",
   "execution_count": 19,
   "metadata": {},
   "outputs": [],
   "source": [
    "import matplotlib.pyplot as plt\n",
    "import numpy as np"
   ]
  },
  {
   "cell_type": "code",
   "execution_count": 44,
   "metadata": {},
   "outputs": [],
   "source": [
    "a = torch.tensor([1, 2], dtype=float)\n",
    "b = torch.tensor([1, 3], dtype=float)\n",
    "c = torch.tensor([1, 4], dtype=float)\n",
    "d = torch.tensor([5, -5], dtype=float)"
   ]
  },
  {
   "cell_type": "code",
   "execution_count": 24,
   "metadata": {},
   "outputs": [],
   "source": [
    "def loss(vectors, geomed):\n",
    "    return torch.sum(torch.norm(vectors - geomed, dim=1))"
   ]
  },
  {
   "cell_type": "code",
   "execution_count": 65,
   "metadata": {},
   "outputs": [
    {
     "data": {
      "image/png": "[encoded data removed]",
      "text/plain": [
       "<Figure size 432x288 with 1 Axes>"
      ]
     },
     "metadata": {
      "needs_background": "light"
     },
     "output_type": "display_data"
    },
    {
     "data": {
      "text/plain": [
       "<matplotlib.collections.PathCollection at 0x7f47aad8dd50>"
      ]
     },
     "execution_count": 65,
     "metadata": {},
     "output_type": "execute_result"
    },
    {
     "data": {
      "image/png": "[encoded data removed]",
      "text/plain": [
       "<Figure size 432x288 with 1 Axes>"
      ]
     },
     "metadata": {
      "needs_background": "light"
     },
     "output_type": "display_data"
    }
   ],
   "source": [
    "vects = [a, b, c, d]\n",
    "losses = []\n",
    "points = []\n",
    "initial = torch.rand(len(vects[0]))\n",
    "for i in range(100):\n",
    "    losses.append(loss(torch.stack(vects), initial))\n",
    "    num = 0\n",
    "    for j in range(len(vects)):\n",
    "        num += vects[j] / torch.norm(vects[j] - initial)\n",
    "    denum = 0\n",
    "    for j in range(len(vects)):\n",
    "        denum += 1 / torch.norm(vects[j] - initial)\n",
    "    initial = num / denum\n",
    "    points.append(initial)\n",
    "    \n",
    "\n",
    "plt.plot(losses)\n",
    "points = torch.stack(points)\n",
    "plt.show()\n",
    "plt.scatter(points[0,:].tolist(), points[1,:].tolist())"
   ]
  },
  {
   "cell_type": "code",
   "execution_count": 63,
   "metadata": {},
   "outputs": [
    {
     "data": {
      "text/plain": [
       "tensor([2.0293, 2.2448, 2.2797, 2.3078, 2.3358, 2.3637, 2.3912, 2.4183, 2.4446,\n",
       "        2.4701, 2.4948, 2.5185, 2.5412, 2.5629, 2.5836, 2.6033, 2.6221, 2.6398,\n",
       "        2.6567, 2.6727, 2.6878, 2.7021, 2.7156, 2.7284, 2.7404, 2.7518, 2.7626,\n",
       "        2.7727, 2.7823, 2.7913, 2.7999, 2.8080, 2.8156, 2.8228, 2.8296, 2.8361,\n",
       "        2.8422, 2.8479, 2.8534, 2.8586, 2.8635, 2.8681, 2.8726, 2.8768, 2.8807,\n",
       "        2.8845, 2.8881, 2.8915, 2.8948, 2.8979, 2.9009, 2.9037, 2.9064, 2.9090,\n",
       "        2.9114, 2.9138, 2.9160, 2.9182, 2.9202, 2.9222, 2.9241, 2.9259, 2.9277,\n",
       "        2.9294, 2.9310, 2.9325, 2.9340, 2.9354, 2.9368, 2.9381, 2.9394, 2.9407,\n",
       "        2.9419, 2.9430, 2.9441, 2.9452, 2.9462, 2.9472, 2.9482, 2.9491, 2.9501,\n",
       "        2.9509, 2.9518, 2.9526, 2.9534, 2.9542, 2.9550, 2.9557, 2.9564, 2.9571,\n",
       "        2.9578, 2.9584, 2.9590, 2.9597, 2.9603, 2.9608, 2.9614, 2.9620, 2.9625,\n",
       "        2.9630], dtype=torch.float64)"
      ]
     },
     "execution_count": 63,
     "metadata": {},
     "output_type": "execute_result"
    }
   ],
   "source": [
    "points[:,1]"
   ]
  }
 ],
 "metadata": {
  "kernelspec": {
   "display_name": "Python 3",
   "language": "python",
   "name": "python3"
  },
  "language_info": {
   "codemirror_mode": {
    "name": "ipython",
    "version": 3
   },
   "file_extension": ".py",
   "mimetype": "text/x-python",
   "name": "python",
   "nbconvert_exporter": "python",
   "pygments_lexer": "ipython3",
   "version": "3.7.6"
  }
 },
 "nbformat": 4,
 "nbformat_minor": 4
}
