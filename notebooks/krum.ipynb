{
 "cells": [
  {
   "cell_type": "code",
   "execution_count": 2,
   "metadata": {},
   "outputs": [],
   "source": [
    "import torch\n",
    "\n",
    "import matplotlib.pyplot as plt"
   ]
  },
  {
   "cell_type": "code",
   "execution_count": 33,
   "metadata": {},
   "outputs": [],
   "source": [
    "a = torch.tensor([1, 2], dtype=float)\n",
    "b = torch.tensor([1, 3], dtype=float)\n",
    "c = torch.tensor([1, 4], dtype=float)\n",
    "d = torch.tensor([1.1, 4], dtype=float)\n",
    "e = torch.tensor([5, -5], dtype=float)\n",
    "f = torch.tensor([8, -5], dtype=float)\n",
    "g = torch.tensor([1, 4.1], dtype=float)\n",
    "h = torch.tensor([2, 4.1], dtype=float)"
   ]
  },
  {
   "cell_type": "code",
   "execution_count": 12,
   "metadata": {},
   "outputs": [],
   "source": [
    "def krum(num_byz, grads, p='fro'):\n",
    "    num_near = len(grads) - num_byz - 2\n",
    "    scores = []\n",
    "    for grad in grads:\n",
    "        dist = torch.norm(grads - grad, p, dim=1)\n",
    "        dist, _ = torch.sort(dist)\n",
    "        dist = dist[1:]\n",
    "        scores.append(torch.sum(dist[:num_near]))\n",
    "    selected_grad = torch.argmin(torch.tensor(scores))\n",
    "    \n",
    "    return grads[selected_grad]"
   ]
  },
  {
   "cell_type": "code",
   "execution_count": 13,
   "metadata": {},
   "outputs": [],
   "source": [
    "def geomed(grads, epochs, p='fro'):\n",
    "    losses = []\n",
    "    y = torch.rand(len(grads[0]))\n",
    "    for i in range(epochs):\n",
    "#         losses.append(loss(torch.stack(grads), y))\n",
    "        num = 0\n",
    "        for j in range(len(grads)):\n",
    "            num += grads[j] / torch.norm(grads[j] - y)\n",
    "        denum = 0\n",
    "        for j in range(len(grads)):\n",
    "            denum += 1 / torch.norm(grads[j] - y)\n",
    "        y = num / denum\n",
    "    return y"
   ]
  },
  {
   "cell_type": "code",
   "execution_count": 17,
   "metadata": {},
   "outputs": [],
   "source": [
    "def find_closest_grad(grads, grad):\n",
    "    # returns the index of the closest gradient to grad in grads\n",
    "    distances = torch.norm(grads - grad, dim=1)\n",
    "    return torch.argmin(distances)"
   ]
  },
  {
   "cell_type": "code",
   "execution_count": 40,
   "metadata": {},
   "outputs": [],
   "source": [
    "def bulyan(grads, num_byz, epochs, geomed):\n",
    "    f = num_byz\n",
    "    n = len(grads)\n",
    "    theta = n - 2 * f\n",
    "\n",
    "    assert n - 4 * f - 3 >= 0\n",
    "\n",
    "    selection_set = []\n",
    "    received_set = grads\n",
    "\n",
    "    # selection phase\n",
    "    for i in range(theta):\n",
    "        aggregated_grad = geomed(received_set, epochs)\n",
    "        closest_idx = find_closest_grad(received_set, aggregated_grad)\n",
    "        selection_set.append(grads[closest_idx])\n",
    "\n",
    "        # removing the closest vector\n",
    "        idxs = torch.arange(len(received_set)) != closest_idx\n",
    "        received_set = received_set[idxs]\n",
    "\n",
    "    # aggregation phase\n",
    "    beta = theta - 2 * f\n",
    "    selection_set = torch.stack(selection_set)\n",
    "\n",
    "    # finding beta closest coordinates to the median you can sort the each\n",
    "    # coordinate and find the beta closest gradients\n",
    "    dist_median = torch.abs(selection_set -\n",
    "                            torch.median(selection_set, dim=0)[0])\n",
    "    idxs = torch.sort(dist_median, dim=0)[1]\n",
    "    selection_set = torch.gather(selection_set, 0, idxs)\n",
    "    return torch.mean(selection_set[:beta, :], dim=0)"
   ]
  },
  {
   "cell_type": "code",
   "execution_count": 41,
   "metadata": {},
   "outputs": [],
   "source": [
    "def plot_vectors(vectors, selected, labels, file_name=None):\n",
    "    plt.grid()\n",
    "    origin = [0], [0]\n",
    "    avg = torch.mean(vectors, dim=0)\n",
    "    plt.quiver(*origin, vectors[:, 0], vectors[:, 1], scale=21)\n",
    "    colors = ['green', 'blue', 'purple']\n",
    "    for select, label, color in zip(selected, labels, colors):\n",
    "        plt.quiver(*origin, select[0], select[1], scale=21, color=color, label=label)\n",
    "    plt.quiver(*origin, avg[0], avg[1], scale=21, color='y', label='avg')\n",
    "    plt.legend()\n",
    "    if file_name is not None:\n",
    "        plt.savefig(file_name + '.pdf', dpi=100, bbox_inches='tight')\n",
    "    plt.show()"
   ]
  },
  {
   "cell_type": "code",
   "execution_count": 43,
   "metadata": {},
   "outputs": [
    {
     "data": {
      "image/png": "[encoded data removed]",
      "text/plain": [
       "<Figure size 432x288 with 1 Axes>"
      ]
     },
     "metadata": {
      "needs_background": "light"
     },
     "output_type": "display_data"
    }
   ],
   "source": [
    "krum_grad = krum(0, torch.stack([a, b, c, d, e, f, g, h]))\n",
    "bulyan_grad = bulyan(torch.stack([a, b, c, d, e, f, g, h]), 1, 30, geomed)\n",
    "geomed_grad = geomed(torch.stack([a, b, c, d, e, f, g, h]), 30)\n",
    "plot_vectors(torch.stack([a, b, c, d, e, f, g, h]), [krum_grad, bulyan_grad, geomed_grad], ['krum', 'bulyan (geo-med)', 'geomed'])"
   ]
  }
 ],
 "metadata": {
  "kernelspec": {
   "display_name": "Python 3",
   "language": "python",
   "name": "python3"
  },
  "language_info": {
   "codemirror_mode": {
    "name": "ipython",
    "version": 3
   },
   "file_extension": ".py",
   "mimetype": "text/x-python",
   "name": "python",
   "nbconvert_exporter": "python",
   "pygments_lexer": "ipython3",
   "version": "3.7.6"
  }
 },
 "nbformat": 4,
 "nbformat_minor": 4
}
