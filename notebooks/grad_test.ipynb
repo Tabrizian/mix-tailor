{
 "cells": [
  {
   "cell_type": "code",
   "execution_count": 322,
   "metadata": {},
   "outputs": [],
   "source": [
    "import matplotlib.pyplot as plt"
   ]
  },
  {
   "cell_type": "code",
   "execution_count": 323,
   "metadata": {},
   "outputs": [],
   "source": [
    "import sys\n",
    "sys.path.append('../')"
   ]
  },
  {
   "cell_type": "code",
   "execution_count": 166,
   "metadata": {},
   "outputs": [
    {
     "name": "stdout",
     "output_type": "stream",
     "text": [
      "The autoreload extension is already loaded. To reload it, use:\n",
      "  %reload_ext autoreload\n"
     ]
    }
   ],
   "source": [
    "%load_ext autoreload\n",
    "%autoreload 1"
   ]
  },
  {
   "cell_type": "code",
   "execution_count": 167,
   "metadata": {},
   "outputs": [],
   "source": [
    "import numpy as np"
   ]
  },
  {
   "cell_type": "code",
   "execution_count": 4,
   "metadata": {},
   "outputs": [],
   "source": [
    "%aimport log_plotter"
   ]
  },
  {
   "cell_type": "code",
   "execution_count": 168,
   "metadata": {},
   "outputs": [],
   "source": [
    "from log_plotter import get_run_names_events, get_data_pth_events"
   ]
  },
  {
   "cell_type": "code",
   "execution_count": 193,
   "metadata": {},
   "outputs": [],
   "source": [
    "def calc_agg_grad(grads):\n",
    "    total_grad = 0.0\n",
    "    for key, value in grads.items():\n",
    "        total_grad += value[1][:100]\n",
    "    return total_grad / len(grads)"
   ]
  },
  {
   "cell_type": "code",
   "execution_count": 300,
   "metadata": {},
   "outputs": [],
   "source": [
    "def test_agg_grad(grads_real, grads_calc):\n",
    "    err = (grads_real - grads_calc)\n",
    "    return np.all([np.abs(err) < 1e-3])"
   ]
  },
  {
   "cell_type": "code",
   "execution_count": 334,
   "metadata": {},
   "outputs": [],
   "source": [
    "patterns = ['.*runs_mnist_bsgd/test1_.*']\n",
    "tags = ['grad_aa/0', 'grad_ba/0', 'model_bg/0', 'model_ag/0', 'model_aa/0', 'grad_aa/1', 'grad_ba/1', 'model_bg/1', 'model_ag/1', 'model_aa/1']\n",
    "logdir = '/h/iman/Code/dist-quantization/runs'\n",
    "tb_files = get_run_names_events(logdir, patterns)\n",
    "log_data_ga, _ = get_data_pth_events(logdir, tb_files, tags)"
   ]
  },
  {
   "cell_type": "code",
   "execution_count": 335,
   "metadata": {},
   "outputs": [],
   "source": [
    "patterns = ['.*runs_mnist_bsgd/test2_.*']\n",
    "tb_files = get_run_names_events(logdir, patterns)\n",
    "log_data_wa, _ = get_data_pth_events(logdir, tb_files, tags)"
   ]
  },
  {
   "cell_type": "markdown",
   "metadata": {},
   "source": [
    "# Test the Gradient Aggregation"
   ]
  },
  {
   "cell_type": "code",
   "execution_count": 336,
   "metadata": {},
   "outputs": [
    {
     "data": {
      "text/plain": [
       "True"
      ]
     },
     "execution_count": 336,
     "metadata": {},
     "output_type": "execute_result"
    }
   ],
   "source": [
    "grads_calc = calc_agg_grad(log_data_ga['grad_ba/0'])\n",
    "test_agg_grad(log_data_ga['grad_aa/0']['0'][1][:100], grads_calc)"
   ]
  },
  {
   "cell_type": "code",
   "execution_count": 337,
   "metadata": {},
   "outputs": [
    {
     "data": {
      "text/plain": [
       "True"
      ]
     },
     "execution_count": 337,
     "metadata": {},
     "output_type": "execute_result"
    }
   ],
   "source": [
    "lr = 0.01\n",
    "diff = log_data_ga['model_ag/0']['2'][1][:100] - log_data_ga['model_bg/0']['2'][1][:100]\n",
    "np.all(np.abs(diff + lr*log_data_ga['grad_aa/0']['2'][1][:100]) < 1e-6)"
   ]
  },
  {
   "cell_type": "markdown",
   "metadata": {},
   "source": [
    "# Test Initial State of Models Before Aggregation"
   ]
  },
  {
   "cell_type": "code",
   "execution_count": 338,
   "metadata": {},
   "outputs": [
    {
     "data": {
      "text/plain": [
       "True"
      ]
     },
     "execution_count": 338,
     "metadata": {},
     "output_type": "execute_result"
    }
   ],
   "source": [
    "err = log_data_ga['model_bg/0']['0'][1][0] - log_data_wa['model_bg/0']['0'][1][0]\n",
    "np.all([np.abs(err) < 1e-6])"
   ]
  },
  {
   "cell_type": "markdown",
   "metadata": {},
   "source": [
    "# Test Weight Aggregation"
   ]
  },
  {
   "cell_type": "code",
   "execution_count": 339,
   "metadata": {},
   "outputs": [
    {
     "data": {
      "text/plain": [
       "True"
      ]
     },
     "execution_count": 339,
     "metadata": {},
     "output_type": "execute_result"
    }
   ],
   "source": [
    "grads_calc = calc_agg_grad(log_data_wa['model_ag/0'])\n",
    "test_agg_grad(log_data_wa['model_aa/0']['0'][1][:100], grads_calc)"
   ]
  },
  {
   "cell_type": "markdown",
   "metadata": {},
   "source": [
    "# Test Equality of Gradient in Both Mehtods"
   ]
  },
  {
   "cell_type": "code",
   "execution_count": 345,
   "metadata": {
    "scrolled": true
   },
   "outputs": [
    {
     "name": "stdout",
     "output_type": "stream",
     "text": [
      "True\n"
     ]
    }
   ],
   "source": [
    "lr = 0.01\n",
    "diff = log_data_wa['model_ag/0']['0'][1][:100] - log_data_wa['model_bg/0']['0'][1][:100]\n",
    "print(np.all(np.abs(diff + lr*log_data_ga['grad_ba/0']['0'][1][:100]) < 1e-3))"
   ]
  },
  {
   "cell_type": "markdown",
   "metadata": {},
   "source": [
    "# Compare Gradient Averaging with Weight Averaging"
   ]
  },
  {
   "cell_type": "code",
   "execution_count": 347,
   "metadata": {},
   "outputs": [
    {
     "name": "stdout",
     "output_type": "stream",
     "text": [
      "[ 1.90921128e-04  2.46860087e-04  2.71297991e-04  2.97062099e-04\n",
      "  3.24435532e-04  3.61286104e-04  4.48316336e-04  4.81247902e-04\n",
      "  4.95262444e-04  5.21384180e-04  5.43169677e-04  5.63815236e-04\n",
      "  6.00151718e-04  6.40183687e-04  6.78628683e-04  7.24397600e-04\n",
      "  7.44573772e-04  7.69957900e-04  8.01600516e-04  8.23639333e-04\n",
      "  8.20077956e-04  8.39047134e-04  8.45745206e-04  8.14750791e-04\n",
      "  8.06182623e-04  8.21284950e-04  8.40045512e-04  8.23117793e-04\n",
      "  8.34688544e-04  8.07620585e-04  7.79569149e-04  7.57321715e-04\n",
      "  7.27519393e-04  7.30864704e-04  7.00540841e-04  6.45816326e-04\n",
      "  6.10277057e-04  5.86993992e-04  5.49517572e-04  5.50046563e-04\n",
      "  5.30779362e-04  4.91954386e-04  4.47839499e-04  4.09759581e-04\n",
      "  3.70658934e-04  3.20777297e-04  2.73235142e-04  2.14047730e-04\n",
      "  1.68994069e-04  1.42343342e-04  6.93053007e-05 -7.00354576e-07\n",
      " -2.69189477e-05 -8.74102116e-05 -1.10179186e-04 -1.55530870e-04\n",
      " -2.07372010e-04 -2.62923539e-04 -3.45610082e-04 -4.11614776e-04\n",
      " -4.92915511e-04 -5.27508557e-04 -5.39474189e-04 -5.56983054e-04\n",
      " -6.01820648e-04 -6.77682459e-04 -7.30127096e-04 -8.05079937e-04\n",
      " -8.85821879e-04 -9.50656831e-04 -1.02471560e-03 -1.06289983e-03\n",
      " -1.10454112e-03 -1.14530325e-03 -1.15412474e-03 -1.21133775e-03\n",
      " -1.23904645e-03 -1.30658597e-03 -1.38669461e-03 -1.43244117e-03\n",
      " -1.48338825e-03 -1.50334835e-03 -1.51172280e-03 -1.58162415e-03\n",
      " -1.63215399e-03 -1.71535462e-03 -1.78373605e-03 -1.85348094e-03\n",
      " -1.92698091e-03 -1.95772946e-03 -1.97915733e-03 -2.06160545e-03\n",
      " -2.10066885e-03 -2.14483589e-03 -2.19766051e-03 -2.23835558e-03\n",
      " -2.30081379e-03 -2.35629827e-03 -2.35954672e-03 -2.41325796e-03]\n"
     ]
    }
   ],
   "source": [
    "print(log_data_ga['model_ag/0']['1'][1][:100] - log_data_wa['model_aa/0']['1'][1][:100])"
   ]
  }
 ],
 "metadata": {
  "kernelspec": {
   "display_name": "Python 3",
   "language": "python",
   "name": "python3"
  },
  "language_info": {
   "codemirror_mode": {
    "name": "ipython",
    "version": 3
   },
   "file_extension": ".py",
   "mimetype": "text/x-python",
   "name": "python",
   "nbconvert_exporter": "python",
   "pygments_lexer": "ipython3",
   "version": "3.7.6"
  }
 },
 "nbformat": 4,
 "nbformat_minor": 4
}
